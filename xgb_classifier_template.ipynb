{
  "nbformat": 4,
  "nbformat_minor": 0,
  "metadata": {
    "colab": {
      "provenance": []
    },
    "kernelspec": {
      "name": "python3",
      "display_name": "Python 3"
    },
    "language_info": {
      "name": "python"
    }
  },
  "cells": [
    {
      "cell_type": "code",
      "execution_count": null,
      "metadata": {
        "id": "vUEKgK96alsh"
      },
      "outputs": [],
      "source": [
        "import pandas as pd\n",
        "import numpy as np\n",
        "import matplotlib.pyplot as plt\n",
        "from sklearn.model_selection import train_test_split, GridSearchCV\n",
        "from sklearn.metrics import accuracy_score, precision_score, recall_score, f1_score, confusion_matrix\n",
        "import xgboost as xgb"
      ]
    },
    {
      "cell_type": "code",
      "source": [
        "#import data\n",
        "file_path = \"xxxx.csv\"\n",
        "data = pd.read_csv(file_path)"
      ],
      "metadata": {
        "id": "oLJh_SgCa1D7"
      },
      "execution_count": null,
      "outputs": []
    },
    {
      "cell_type": "code",
      "source": [
        "#clean up the data\n",
        "data = data.drop(columns=['feature1'])\n"
      ],
      "metadata": {
        "id": "fduBfWUQbEXq"
      },
      "execution_count": null,
      "outputs": []
    },
    {
      "cell_type": "code",
      "source": [
        "#prepare train and test datasets\n",
        "X = data.drop(columns=['target'])\n",
        "y = data['target']\n",
        "X_train, X_test, y_train, y_test = train_test_split(X, y, test_size=0.2, random_state=18)"
      ],
      "metadata": {
        "id": "fPRSDdc-bW-s"
      },
      "execution_count": null,
      "outputs": []
    },
    {
      "cell_type": "code",
      "source": [
        "#model\n",
        "\n",
        "xgb_model = xgb.XGBClassifier(random_state=18, eval_metric='logloss')\n",
        "\n",
        "#set model parameters manually (optional)\n",
        "param_grid = {\n",
        "    'n_estimators': [400, 500, 600],\n",
        "    'max_depth': [7, 8, 9],\n",
        "    'learning_rate': [0.08, 0.1],\n",
        "    'min_child_weight': [2, 3],\n",
        "  'gamma': [0],\n",
        "    'subsample': [1.0],\n",
        "    'colsample_bytree': [0.6],\n",
        "    'colsample_bylevel': [1.0],\n",
        "    'colsample_bynode': [1.0],\n",
        "   'reg_alpha': [10],\n",
        "    'reg_lambda': [1],\n",
        "    'max_delta_step': [0],\n",
        "    'scale_pos_weight': [1]\n",
        "}"
      ],
      "metadata": {
        "id": "woLfBkytbxq3"
      },
      "execution_count": null,
      "outputs": []
    },
    {
      "cell_type": "code",
      "source": [
        "#searching for the best model\n",
        "grid_search = GridSearchCV(estimator=xgb_model, param_grid=param_grid, scoring='accuracy', cv=3, verbose=1, n_jobs=-1)\n",
        "grid_search.fit(X_train, Y_train)\n",
        "\n",
        "best_xgb_model = grid_search.best_estimator_\n",
        "print(\"Best parameters found: \", grid_search.best_params_)"
      ],
      "metadata": {
        "id": "_5iPBfqlcqM9"
      },
      "execution_count": null,
      "outputs": []
    },
    {
      "cell_type": "code",
      "source": [
        "#prediction metrics\n",
        "# Calculate evaluation metrics for the training set\n",
        "train_accuracy = accuracy_score(Y_train, train_predictions)\n",
        "train_precision = precision_score(Y_train, train_predictions)\n",
        "train_recall = recall_score(Y_train, train_predictions)\n",
        "train_f1 = f1_score(Y_train, train_predictions)\n",
        "train_conf_matrix = confusion_matrix(Y_train, train_predictions)\n",
        "\n",
        "print(\"Training Metrics:\")\n",
        "print(f\"Accuracy: {train_accuracy}\")\n",
        "print(f\"Precision: {train_precision}\")\n",
        "print(f\"Recall: {train_recall}\")\n",
        "print(f\"F1 Score: {train_f1}\")\n",
        "print(f\"Confusion Matrix: \\n{train_conf_matrix}\")"
      ],
      "metadata": {
        "id": "IAHTsEDzci04"
      },
      "execution_count": null,
      "outputs": []
    }
  ]
}